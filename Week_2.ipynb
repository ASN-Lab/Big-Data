{
  "cells": [
    {
      "cell_type": "markdown",
      "metadata": {
        "id": "view-in-github",
        "colab_type": "text"
      },
      "source": [
        "<a href=\"https://colab.research.google.com/github/ASN-Lab/Big-Data/blob/main/Week_2.ipynb\" target=\"_parent\"><img src=\"https://colab.research.google.com/assets/colab-badge.svg\" alt=\"Open In Colab\"/></a>"
      ]
    },
    {
      "cell_type": "markdown",
      "metadata": {
        "id": "rqsdxSBTYPnz"
      },
      "source": [
        "# Week-2\n",
        "Pengolahan & analisa data sederhana pada Notebook di Anaconda berbasis virtual machine Ubuntu"
      ]
    },
    {
      "cell_type": "markdown",
      "source": [
        "## Inisiasi"
      ],
      "metadata": {
        "id": "9I7BUZGdwVbm"
      }
    },
    {
      "cell_type": "code",
      "execution_count": null,
      "metadata": {
        "id": "ShxTUVIOwThk",
        "outputId": "313b6b8f-6ebc-4714-e69e-251477a73d14"
      },
      "outputs": [
        {
          "name": "stderr",
          "output_type": "stream",
          "text": [
            "Setting default log level to \"WARN\".\n",
            "To adjust logging level use sc.setLogLevel(newLevel). For SparkR, use setLogLevel(newLevel).\n",
            "25/09/02 23:47:11 WARN NativeCodeLoader: Unable to load native-hadoop library for your platform... using builtin-java classes where applicable\n"
          ]
        },
        {
          "name": "stdout",
          "output_type": "stream",
          "text": [
            "Spark berfungsi!!\n"
          ]
        }
      ],
      "source": [
        "import os\n",
        "import findspark\n",
        "findspark.init()\n",
        "\n",
        "from pyspark.sql import SparkSession\n",
        "\n",
        "# Mengatur IP lokal untuk menghindari warning\n",
        "os.environ[\"SPARK_LOCAL_IP\"] = \"127.0.0.1\"\n",
        "\n",
        "# Memulai Spark session\n",
        "spark = SparkSession.builder \\\n",
        "    .appName(\"BigDataPractice\") \\\n",
        "    .config(\"spark.ui.port\", \"4050\") \\\n",
        "    .getOrCreate()\n",
        "\n",
        "print(\"Spark berfungsi!!\")"
      ]
    },
    {
      "cell_type": "markdown",
      "metadata": {
        "id": "i7iIDYqQd-gE"
      },
      "source": [
        "# Latihan"
      ]
    },
    {
      "cell_type": "markdown",
      "metadata": {
        "id": "khG-8CZsc_kJ"
      },
      "source": [
        "## Penggunaan PySpark\n",
        "membuat dataframe sederhana pada data"
      ]
    },
    {
      "cell_type": "code",
      "execution_count": null,
      "metadata": {
        "colab": {
          "base_uri": "https://localhost:8080/"
        },
        "id": "YtvVxUgg1g8V",
        "outputId": "cbc94f37-a20d-4cb2-dd9e-c2bd8c3754a3"
      },
      "outputs": [
        {
          "name": "stdout",
          "output_type": "stream",
          "text": [
            "DataFrame awal:\n"
          ]
        },
        {
          "name": "stderr",
          "output_type": "stream",
          "text": [
            "                                                                                "
          ]
        },
        {
          "name": "stdout",
          "output_type": "stream",
          "text": [
            "+-----+----+\n",
            "| Nama|Usia|\n",
            "+-----+----+\n",
            "|  Ali|  34|\n",
            "| Budi|  23|\n",
            "|Citra|  29|\n",
            "| Dina|  45|\n",
            "+-----+----+\n",
            "\n"
          ]
        }
      ],
      "source": [
        "# Membuat DataFrame sederhayna\n",
        "data = [(\"Ali\", 34), (\"Budi\", 23), (\"Citra\", 29), (\"Dina\", 45)]\n",
        "columns = [\"Nama\", \"Usia\"]\n",
        "df = spark.createDataFrame(data, columns)\n",
        "\n",
        "# Menampilkan DataFrame\n",
        "print(\"DataFrame awal:\")\n",
        "df.show()"
      ]
    },
    {
      "cell_type": "markdown",
      "metadata": {
        "id": "RtsXKslVdXZy"
      },
      "source": [
        "## Penggunaan PySpark(Lanjutan)"
      ]
    },
    {
      "cell_type": "code",
      "execution_count": null,
      "metadata": {
        "colab": {
          "base_uri": "https://localhost:8080/"
        },
        "id": "5gcsLBw2dc0h",
        "outputId": "163e2a2a-6517-42fc-c95f-9e77d0d76e08"
      },
      "outputs": [
        {
          "name": "stdout",
          "output_type": "stream",
          "text": [
            "+-----+----+\n",
            "| Nama|Usia|\n",
            "+-----+----+\n",
            "|  Ali|  34|\n",
            "| Budi|  23|\n",
            "|Citra|  29|\n",
            "| Dina|  45|\n",
            "+-----+----+\n",
            "\n",
            "+----+----+\n",
            "|Nama|Usia|\n",
            "+----+----+\n",
            "| Ali|  34|\n",
            "|Dina|  45|\n",
            "+----+----+\n",
            "\n",
            "+---------+\n",
            "|avg(Usia)|\n",
            "+---------+\n",
            "|    32.75|\n",
            "+---------+\n",
            "\n",
            "+-----+----+\n",
            "| Nama|Usia|\n",
            "+-----+----+\n",
            "| Dina|  45|\n",
            "|  Ali|  34|\n",
            "|Citra|  29|\n",
            "| Budi|  23|\n",
            "+-----+----+\n",
            "\n"
          ]
        }
      ],
      "source": [
        "from pyspark.sql import SparkSession\n",
        "\n",
        "# Memulai Spark session\n",
        "spark = SparkSession.builder.appName(\"BigDataPractice\").getOrCreate()\n",
        "\n",
        "# Membuat DataFrame sederhana\n",
        "data = [(\"Ali\", 34), (\"Budi\", 23), (\"Citra\", 29), (\"Dina\", 45)]\n",
        "columns = [\"Nama\", \"Usia\"]\n",
        "df = spark.createDataFrame(data, columns)\n",
        "\n",
        "# Menampilkan DataFrame\n",
        "df.show()\n",
        "\n",
        "# Filtering data\n",
        "df_filtered = df.filter(df['Usia'] > 30)\n",
        "df_filtered.show()\n",
        "\n",
        "# Menghitung rata-rata usia\n",
        "from pyspark.sql.functions import avg\n",
        "df.groupBy().agg(avg(\"Usia\")).show()\n",
        "\n",
        "# Mengurutkan data berdasarkan usia\n",
        "df_sorted = df.orderBy(\"Usia\", ascending=False)\n",
        "df_sorted.show()"
      ]
    },
    {
      "cell_type": "markdown",
      "metadata": {
        "id": "AkpFVLzSeUtt"
      },
      "source": [
        "## Pandas"
      ]
    },
    {
      "cell_type": "code",
      "execution_count": null,
      "metadata": {
        "colab": {
          "base_uri": "https://localhost:8080/",
          "height": 174
        },
        "id": "tBChuii_eXia",
        "outputId": "9a40fc27-c92f-4559-b0b8-8033b2d82d8e"
      },
      "outputs": [
        {
          "data": {
            "text/html": [
              "<div>\n",
              "<style scoped>\n",
              "    .dataframe tbody tr th:only-of-type {\n",
              "        vertical-align: middle;\n",
              "    }\n",
              "\n",
              "    .dataframe tbody tr th {\n",
              "        vertical-align: top;\n",
              "    }\n",
              "\n",
              "    .dataframe thead th {\n",
              "        text-align: right;\n",
              "    }\n",
              "</style>\n",
              "<table border=\"1\" class=\"dataframe\">\n",
              "  <thead>\n",
              "    <tr style=\"text-align: right;\">\n",
              "      <th></th>\n",
              "      <th>Nama</th>\n",
              "      <th>Usia</th>\n",
              "    </tr>\n",
              "  </thead>\n",
              "  <tbody>\n",
              "    <tr>\n",
              "      <th>0</th>\n",
              "      <td>Ali</td>\n",
              "      <td>34</td>\n",
              "    </tr>\n",
              "    <tr>\n",
              "      <th>1</th>\n",
              "      <td>Budi</td>\n",
              "      <td>23</td>\n",
              "    </tr>\n",
              "    <tr>\n",
              "      <th>2</th>\n",
              "      <td>Citra</td>\n",
              "      <td>29</td>\n",
              "    </tr>\n",
              "    <tr>\n",
              "      <th>3</th>\n",
              "      <td>Dina</td>\n",
              "      <td>45</td>\n",
              "    </tr>\n",
              "  </tbody>\n",
              "</table>\n",
              "</div>"
            ],
            "text/plain": [
              "    Nama  Usia\n",
              "0    Ali    34\n",
              "1   Budi    23\n",
              "2  Citra    29\n",
              "3   Dina    45"
            ]
          },
          "execution_count": 4,
          "metadata": {},
          "output_type": "execute_result"
        }
      ],
      "source": [
        "import pandas as pd\n",
        "\n",
        "# Membuat DataFrame Pandas\n",
        "data_pandas = {\"Nama\": [\"Ali\", \"Budi\", \"Citra\", \"Dina\"], \"Usia\": [34, 23, 29, 45]}\n",
        "df_pandas = pd.DataFrame(data_pandas)\n",
        "\n",
        "# Menampilkan DataFrame Pandas\n",
        "df_pandas"
      ]
    },
    {
      "cell_type": "markdown",
      "metadata": {
        "id": "XdeqEa-hfD7l"
      },
      "source": [
        "## Pandas(Lanjutan)"
      ]
    },
    {
      "cell_type": "code",
      "execution_count": null,
      "metadata": {
        "colab": {
          "base_uri": "https://localhost:8080/",
          "height": 668
        },
        "id": "0e3YTa8qfCtZ",
        "outputId": "b55b4f9c-dd6e-4bc6-c7b7-24ab2142ba4d"
      },
      "outputs": [
        {
          "name": "stdout",
          "output_type": "stream",
          "text": [
            "    Nama  Usia Pekerjaan\n",
            "0    Ali    34    Dokter\n",
            "1   Budi    23      Guru\n",
            "2  Citra    29  Insinyur\n",
            "3   Dina    45   Perawat\n",
            "            Usia\n",
            "count   4.000000\n",
            "mean   32.750000\n",
            "std     9.322911\n",
            "min    23.000000\n",
            "25%    27.500000\n",
            "50%    31.500000\n",
            "75%    36.750000\n",
            "max    45.000000\n"
          ]
        },
        {
          "data": {
            "image/png": "[encoded data removed]",
            "text/plain": [
              "<Figure size 640x480 with 1 Axes>"
            ]
          },
          "metadata": {},
          "output_type": "display_data"
        }
      ],
      "source": [
        "import pandas as pd\n",
        "\n",
        "# Membuat DataFrame Pandas\n",
        "data_pandas = {\"Nama\": [\"Ali\", \"Budi\", \"Citra\", \"Dina\"], \"Usia\": [34, 23, 29, 45]}\n",
        "df_pandas = pd.DataFrame(data_pandas)\n",
        "\n",
        "# Membuat DataFrame kedua\n",
        "data_pandas_2 = {\"Nama\": [\"Ali\", \"Budi\", \"Citra\", \"Dina\"], \"Pekerjaan\": [\"Dokter\", \"Guru\", \"Insinyur\", \"Perawat\"]}\n",
        "df_pandas_2 = pd.DataFrame(data_pandas_2)\n",
        "\n",
        "# Join antara dua DataFrame\n",
        "df_joined = pd.merge(df_pandas, df_pandas_2, on=\"Nama\")\n",
        "print(df_joined)\n",
        "\n",
        "# Menghitung statistik deskriptif\n",
        "print(df_pandas.describe())\n",
        "\n",
        "# Plotting Data\n",
        "import matplotlib.pyplot as plt\n",
        "df_pandas['Usia'].plot(kind='bar')\n",
        "plt.show()"
      ]
    },
    {
      "cell_type": "markdown",
      "metadata": {
        "id": "bQoMAm9Ffn-U"
      },
      "source": [
        "## PySpark & Pandas"
      ]
    },
    {
      "cell_type": "code",
      "execution_count": null,
      "metadata": {
        "colab": {
          "base_uri": "https://localhost:8080/"
        },
        "id": "htN8Pj8Wfspz",
        "outputId": "dfe18ca0-ece1-45ad-8c16-60852e84bef5"
      },
      "outputs": [
        {
          "name": "stdout",
          "output_type": "stream",
          "text": [
            "+-----+----+\n",
            "| Nama|Usia|\n",
            "+-----+----+\n",
            "|  Ali|  34|\n",
            "| Budi|  23|\n",
            "|Citra|  29|\n",
            "| Dina|  45|\n",
            "+-----+----+\n",
            "\n"
          ]
        },
        {
          "data": {
            "text/plain": [
              "(    Nama  Usia\n",
              " 0    Ali    34\n",
              " 1   Budi    23\n",
              " 2  Citra    29\n",
              " 3   Dina    45,\n",
              " None)"
            ]
          },
          "execution_count": 6,
          "metadata": {},
          "output_type": "execute_result"
        }
      ],
      "source": [
        "# Mengonversi DataFrame dari PySpark ke Pandas\n",
        "df_pandas_from_spark = df.toPandas()\n",
        "\n",
        "# Mengonversi DataFrame dari Pandas ke PySpark\n",
        "df_spark_from_pandas = spark.createDataFrame(df_pandas)\n",
        "\n",
        "# Menampilkan DataFrame hasil konversi\n",
        "df_pandas_from_spark, df_spark_from_pandas.show()"
      ]
    },
    {
      "cell_type": "markdown",
      "metadata": {
        "id": "O8L3Pa7zgw0p"
      },
      "source": [
        "## Konversi PySpark & Pandas"
      ]
    },
    {
      "cell_type": "code",
      "execution_count": null,
      "metadata": {
        "colab": {
          "base_uri": "https://localhost:8080/"
        },
        "id": "YW6PMZQDg403",
        "outputId": "1fa37ef2-03ac-4815-d179-3208b6b51237"
      },
      "outputs": [
        {
          "name": "stdout",
          "output_type": "stream",
          "text": [
            "+-----+----+\n",
            "| Nama|Usia|\n",
            "+-----+----+\n",
            "|  Ali|  34|\n",
            "| Budi|  23|\n",
            "|Citra|  29|\n",
            "| Dina|  45|\n",
            "+-----+----+\n",
            "\n"
          ]
        },
        {
          "data": {
            "text/plain": [
              "(    Nama  Usia\n",
              " 0    Ali    34\n",
              " 1   Budi    23\n",
              " 2  Citra    29\n",
              " 3   Dina    45,\n",
              " None)"
            ]
          },
          "execution_count": 7,
          "metadata": {},
          "output_type": "execute_result"
        }
      ],
      "source": [
        "# Mengonversi DataFrame dari PySpark ke Pandas\n",
        "df_pandas_from_spark = df.toPandas()\n",
        "\n",
        "# Mengonversi DataFrame dari Pandas ke PySpark\n",
        "df_spark_from_pandas = spark.createDataFrame(df_pandas)\n",
        "\n",
        "# Menampilkan DataFrame hasil konversi\n",
        "df_pandas_from_spark, df_spark_from_pandas.show()"
      ]
    },
    {
      "cell_type": "markdown",
      "metadata": {
        "id": "_r-VFnvtd5cX"
      },
      "source": [
        "# Tugas"
      ]
    },
    {
      "cell_type": "markdown",
      "metadata": {
        "id": "QZE3FggNcu8b"
      },
      "source": [
        "## 1. Modifikasi kode program(PySpark)\n",
        "Membuat modifikasi kode program dengan menambahkan data lain berupa kolom pekerjaan, hobi dan gender."
      ]
    },
    {
      "cell_type": "code",
      "execution_count": null,
      "metadata": {
        "colab": {
          "base_uri": "https://localhost:8080/"
        },
        "id": "x5RFrjjBclGx",
        "outputId": "15c02a9f-67f6-4134-a9eb-9926ec07df85"
      },
      "outputs": [
        {
          "name": "stdout",
          "output_type": "stream",
          "text": [
            "DataFrame baru:\n",
            "+-----+----+---------+----------+------+\n",
            "| Nama|Usia|Pekerjaan|      Hobi|Gender|\n",
            "+-----+----+---------+----------+------+\n",
            "|  Ali|  34|   Dokter|   Membaca|     L|\n",
            "| Budi|  23|     Guru|Sepak Bola|     L|\n",
            "|Citra|  29| Insinyur|   Memasak|     P|\n",
            "| Dina|  45|  Perawat|  Berkebun|     P|\n",
            "+-----+----+---------+----------+------+\n",
            "\n"
          ]
        }
      ],
      "source": [
        "from pyspark.sql import SparkSession\n",
        "from pyspark.sql import Row\n",
        "\n",
        "# Memulai Spark session\n",
        "spark = SparkSession.builder.appName(\"BigDataPractice\").getOrCreate()\n",
        "\n",
        "# Membuat DataFrame sederhana\n",
        "data = [\n",
        "    (\"Ali\", 34, \"Dokter\", \"Membaca\", \"L\"),\n",
        "    (\"Budi\", 23, \"Guru\", \"Sepak Bola\", \"L\"),\n",
        "    (\"Citra\", 29, \"Insinyur\", \"Memasak\", \"P\"),\n",
        "    (\"Dina\", 45, \"Perawat\", \"Berkebun\", \"P\"),\n",
        "]\n",
        "columns = [\"Nama\", \"Usia\", \"Pekerjaan\", \"Hobi\", \"Gender\"]\n",
        "df = spark.createDataFrame(data, columns)\n",
        "\n",
        "# Menampilkan DataFrame\n",
        "print(\"DataFrame baru:\")\n",
        "df.show()"
      ]
    },
    {
      "cell_type": "markdown",
      "metadata": {
        "id": "xKxi0qqNdric"
      },
      "source": [
        "## 2. PySpark(Lanjutan)\n",
        "Membuat filter, penghitungan rata-rata, dan pengurutan data menggunakan PySpark"
      ]
    },
    {
      "cell_type": "code",
      "execution_count": null,
      "metadata": {
        "colab": {
          "base_uri": "https://localhost:8080/"
        },
        "id": "k1ypI9zOdqqE",
        "outputId": "5cdee2b8-9537-43bc-b140-6ccdcb4bc0da"
      },
      "outputs": [
        {
          "name": "stdout",
          "output_type": "stream",
          "text": [
            "DataFrame awal:\n",
            "+-----+----+---------+----------+------+\n",
            "| Nama|Usia|Pekerjaan|      Hobi|Gender|\n",
            "+-----+----+---------+----------+------+\n",
            "|  Ali|  34|   Dokter|   Membaca|     L|\n",
            "| Budi|  23|     Guru|Sepak Bola|     L|\n",
            "|Citra|  29| Insinyur|   Memasak|     P|\n",
            "| Dina|  45|  Perawat|  Berkebun|     P|\n",
            "+-----+----+---------+----------+------+\n",
            "\n",
            "DataFrame filterisasi:\n",
            "+----+----+---------+--------+------+\n",
            "|Nama|Usia|Pekerjaan|    Hobi|Gender|\n",
            "+----+----+---------+--------+------+\n",
            "| Ali|  34|   Dokter| Membaca|     L|\n",
            "|Dina|  45|  Perawat|Berkebun|     P|\n",
            "+----+----+---------+--------+------+\n",
            "\n",
            "DataFrame penghitungan rata-rata:\n",
            "+---------+\n",
            "|avg(Usia)|\n",
            "+---------+\n",
            "|    32.75|\n",
            "+---------+\n",
            "\n",
            "DataFrame pengurutan usia:\n",
            "+-----+----+---------+----------+------+\n",
            "| Nama|Usia|Pekerjaan|      Hobi|Gender|\n",
            "+-----+----+---------+----------+------+\n",
            "| Dina|  45|  Perawat|  Berkebun|     P|\n",
            "|  Ali|  34|   Dokter|   Membaca|     L|\n",
            "|Citra|  29| Insinyur|   Memasak|     P|\n",
            "| Budi|  23|     Guru|Sepak Bola|     L|\n",
            "+-----+----+---------+----------+------+\n",
            "\n"
          ]
        }
      ],
      "source": [
        "print(\"DataFrame awal:\")\n",
        "df.show()\n",
        "\n",
        "# Filtering data\n",
        "print(\"DataFrame filterisasi:\")\n",
        "df_filtered = df.filter(df['Usia'] > 30)\n",
        "df_filtered.show()\n",
        "\n",
        "# Menghitung rata-rata usia\n",
        "print(\"DataFrame penghitungan rata-rata:\")\n",
        "from pyspark.sql.functions import avg\n",
        "df.groupBy().agg(avg(\"Usia\")).show()\n",
        "\n",
        "# Mengurutkan data berdasarkan usia\n",
        "print(\"DataFrame pengurutan usia:\")\n",
        "df_sorted = df.orderBy(\"Usia\", ascending=False)\n",
        "df_sorted.show()"
      ]
    },
    {
      "cell_type": "markdown",
      "metadata": {
        "id": "87T2BIBBeoyk"
      },
      "source": [
        "## 3. Pandas\n",
        "Memodifikasi DataFrame Pandas dengan menambahkan kolom baru dan melakukan operasi berupa filtering data berdasarkan usia."
      ]
    },
    {
      "cell_type": "code",
      "execution_count": null,
      "metadata": {
        "colab": {
          "base_uri": "https://localhost:8080/",
          "height": 174
        },
        "id": "2ZI68ah_vgl4",
        "outputId": "b221f62f-86f8-415a-ee3a-9ca33dee76f4"
      },
      "outputs": [
        {
          "data": {
            "text/html": [
              "<div>\n",
              "<style scoped>\n",
              "    .dataframe tbody tr th:only-of-type {\n",
              "        vertical-align: middle;\n",
              "    }\n",
              "\n",
              "    .dataframe tbody tr th {\n",
              "        vertical-align: top;\n",
              "    }\n",
              "\n",
              "    .dataframe thead th {\n",
              "        text-align: right;\n",
              "    }\n",
              "</style>\n",
              "<table border=\"1\" class=\"dataframe\">\n",
              "  <thead>\n",
              "    <tr style=\"text-align: right;\">\n",
              "      <th></th>\n",
              "      <th>Nama</th>\n",
              "      <th>Usia</th>\n",
              "      <th>Pekerjaan</th>\n",
              "      <th>Hobi</th>\n",
              "      <th>Gender</th>\n",
              "    </tr>\n",
              "  </thead>\n",
              "  <tbody>\n",
              "    <tr>\n",
              "      <th>0</th>\n",
              "      <td>Ali</td>\n",
              "      <td>34</td>\n",
              "      <td>Dokter</td>\n",
              "      <td>Membaca</td>\n",
              "      <td>L</td>\n",
              "    </tr>\n",
              "    <tr>\n",
              "      <th>1</th>\n",
              "      <td>Budi</td>\n",
              "      <td>23</td>\n",
              "      <td>Guru</td>\n",
              "      <td>Sepak Bola</td>\n",
              "      <td>L</td>\n",
              "    </tr>\n",
              "    <tr>\n",
              "      <th>2</th>\n",
              "      <td>Citra</td>\n",
              "      <td>29</td>\n",
              "      <td>Insinyur</td>\n",
              "      <td>Memasak</td>\n",
              "      <td>P</td>\n",
              "    </tr>\n",
              "    <tr>\n",
              "      <th>3</th>\n",
              "      <td>Dina</td>\n",
              "      <td>45</td>\n",
              "      <td>Perawat</td>\n",
              "      <td>Berkebun</td>\n",
              "      <td>P</td>\n",
              "    </tr>\n",
              "  </tbody>\n",
              "</table>\n",
              "</div>"
            ],
            "text/plain": [
              "    Nama  Usia Pekerjaan        Hobi Gender\n",
              "0    Ali    34    Dokter     Membaca      L\n",
              "1   Budi    23      Guru  Sepak Bola      L\n",
              "2  Citra    29  Insinyur     Memasak      P\n",
              "3   Dina    45   Perawat    Berkebun      P"
            ]
          },
          "execution_count": 10,
          "metadata": {},
          "output_type": "execute_result"
        }
      ],
      "source": [
        "import pandas as pd\n",
        "\n",
        "# Membuat DataFrame Pandas\n",
        "data_pandas = {\"Nama\": [\"Ali\", \"Budi\", \"Citra\", \"Dina\"], \"Usia\": [34, 23, 29, 45], \"Pekerjaan\": [\"Dokter\", \"Guru\", \"Insinyur\", \"Perawat\"], \"Hobi\": [\"Membaca\",\"Sepak Bola\", \"Memasak\", \"Berkebun\"], \"Gender\": [\"L\", \"L\", \"P\", \"P\"]}\n",
        "df_pandas = pd.DataFrame(data_pandas)\n",
        "\n",
        "# Menampilkan DataFrame\n",
        "df_pandas"
      ]
    },
    {
      "cell_type": "code",
      "execution_count": null,
      "metadata": {
        "colab": {
          "base_uri": "https://localhost:8080/",
          "height": 142
        },
        "id": "acdvMMXQen7z",
        "outputId": "e9f2d944-e518-4cf6-e999-1d39113440dd"
      },
      "outputs": [
        {
          "name": "stdout",
          "output_type": "stream",
          "text": [
            "DataFrame filterisasi:\n"
          ]
        },
        {
          "data": {
            "text/html": [
              "<div>\n",
              "<style scoped>\n",
              "    .dataframe tbody tr th:only-of-type {\n",
              "        vertical-align: middle;\n",
              "    }\n",
              "\n",
              "    .dataframe tbody tr th {\n",
              "        vertical-align: top;\n",
              "    }\n",
              "\n",
              "    .dataframe thead th {\n",
              "        text-align: right;\n",
              "    }\n",
              "</style>\n",
              "<table border=\"1\" class=\"dataframe\">\n",
              "  <thead>\n",
              "    <tr style=\"text-align: right;\">\n",
              "      <th></th>\n",
              "      <th>Nama</th>\n",
              "      <th>Usia</th>\n",
              "      <th>Pekerjaan</th>\n",
              "      <th>Hobi</th>\n",
              "      <th>Gender</th>\n",
              "    </tr>\n",
              "  </thead>\n",
              "  <tbody>\n",
              "    <tr>\n",
              "      <th>0</th>\n",
              "      <td>Ali</td>\n",
              "      <td>34</td>\n",
              "      <td>Dokter</td>\n",
              "      <td>Membaca</td>\n",
              "      <td>L</td>\n",
              "    </tr>\n",
              "    <tr>\n",
              "      <th>3</th>\n",
              "      <td>Dina</td>\n",
              "      <td>45</td>\n",
              "      <td>Perawat</td>\n",
              "      <td>Berkebun</td>\n",
              "      <td>P</td>\n",
              "    </tr>\n",
              "  </tbody>\n",
              "</table>\n",
              "</div>"
            ],
            "text/plain": [
              "   Nama  Usia Pekerjaan      Hobi Gender\n",
              "0   Ali    34    Dokter   Membaca      L\n",
              "3  Dina    45   Perawat  Berkebun      P"
            ]
          },
          "execution_count": 11,
          "metadata": {},
          "output_type": "execute_result"
        }
      ],
      "source": [
        "# Filterisasi berupa usia di atas 30\n",
        "print(\"DataFrame filterisasi:\")\n",
        "df_pandas_filtered = df_pandas[df_pandas[\"Usia\"] >= 30]\n",
        "df_pandas_filtered"
      ]
    },
    {
      "cell_type": "markdown",
      "metadata": {
        "id": "Y11veQzHfVFW"
      },
      "source": [
        "## 4. Pandas(Lanjutan)\n",
        "Mengonversi DataFrame antara PySpark dan Pandas Praktik untuk convert DataFrame dari PySpark ke Pandas dan sebaliknya."
      ]
    },
    {
      "cell_type": "code",
      "execution_count": null,
      "metadata": {
        "colab": {
          "base_uri": "https://localhost:8080/",
          "height": 755
        },
        "id": "wIYWOirvfTWj",
        "outputId": "11480079-1643-4a16-93e5-0902238e1c9d"
      },
      "outputs": [
        {
          "name": "stdout",
          "output_type": "stream",
          "text": [
            "Hasil konversi:\n",
            "    Nama  Usia Pekerjaan\n",
            "0    Ali    34    Dokter\n",
            "1   Budi    23      Guru\n",
            "2  Citra    29  Insinyur\n",
            "3   Dina    45   Perawat\n",
            "\n",
            "Statistik deskriptif:\n",
            "            Usia\n",
            "count   4.000000\n",
            "mean   32.750000\n",
            "std     9.322911\n",
            "min    23.000000\n",
            "25%    27.500000\n",
            "50%    31.500000\n",
            "75%    36.750000\n",
            "max    45.000000\n",
            "\n",
            "Visualisasi:\n"
          ]
        },
        {
          "data": {
            "image/png": "[encoded data removed]",
            "text/plain": [
              "<Figure size 640x480 with 1 Axes>"
            ]
          },
          "metadata": {},
          "output_type": "display_data"
        }
      ],
      "source": [
        "import pandas as pd\n",
        "\n",
        "# DataFrame 1\n",
        "data_pandas = {\"Nama\": [\"Ali\", \"Budi\", \"Citra\", \"Dina\"], \"Usia\": [34, 23, 29, 45]}\n",
        "df_pandas = pd.DataFrame(data_pandas)\n",
        "\n",
        "# DataFrame 2\n",
        "data_pandas_2 = {\"Nama\": [\"Ali\", \"Budi\", \"Citra\", \"Dina\"], \"Pekerjaan\": [\"Dokter\", \"Guru\", \"Insinyur\", \"Perawat\"]}\n",
        "df_pandas_2 = pd.DataFrame(data_pandas_2)\n",
        "\n",
        "# Join pada kolom Nama\n",
        "df_joined = pd.merge(df_pandas, df_pandas_2, on=\"Nama\")\n",
        "print(\"Hasil konversi:\")\n",
        "print(df_joined)\n",
        "\n",
        "# Statistik deskriptif\n",
        "print(\"\\nStatistik deskriptif:\")\n",
        "print(df_pandas.describe())\n",
        "\n",
        "# Plot\n",
        "import matplotlib.pyplot as plt\n",
        "df_pandas['Usia'].plot(kind='bar')\n",
        "print(\"\\nVisualisasi:\")\n",
        "plt.show()"
      ]
    },
    {
      "cell_type": "markdown",
      "metadata": {
        "id": "YlMFgvdwgjKg"
      },
      "source": [
        "## 5. PySpark & Pandas\n",
        "Menggunakan metode penggabungan PySpark & Pandas untuk menggabungkan data yang ada di PySpark dengan data dari Pandas, kemudian menganalisis data untuk menghitung rata-rata usia."
      ]
    },
    {
      "cell_type": "code",
      "execution_count": null,
      "metadata": {
        "colab": {
          "base_uri": "https://localhost:8080/",
          "height": 146
        },
        "id": "904syRBSgnhl",
        "outputId": "3966fb11-5377-4cfe-90ac-63eabdf15762"
      },
      "outputs": [
        {
          "data": {
            "text/plain": [
              "Usia_spark     32.75\n",
              "Usia_pandas    32.75\n",
              "dtype: float64"
            ]
          },
          "execution_count": 13,
          "metadata": {},
          "output_type": "execute_result"
        }
      ],
      "source": [
        "# Spark ke Pandas\n",
        "df_pandas_from_spark = df.toPandas()\n",
        "\n",
        "# Gabungan dengan df_pandas\n",
        "df_combined = pd.merge(df_pandas_from_spark, df_pandas, on=\"Nama\", suffixes=(\"_spark\", \"_pandas\"))\n",
        "\n",
        "# Contoh analisis sederhana\n",
        "avg_usia = df_combined[[\"Usia_spark\", \"Usia_pandas\"]].mean()\n",
        "avg_usia"
      ]
    },
    {
      "cell_type": "markdown",
      "metadata": {
        "id": "VDzcsgQ0g-Df"
      },
      "source": [
        "## 6. Operasi penggabungan PySpark & Pandas\n",
        "Penggabungan data dari PySpark dan Pandas, untuk melakukan operasi statistik berupa menghitung nilai maksimum usia.\n"
      ]
    },
    {
      "cell_type": "code",
      "execution_count": null,
      "metadata": {
        "colab": {
          "base_uri": "https://localhost:8080/",
          "height": 174
        },
        "id": "zGMcGYAJhUak",
        "outputId": "5e88835b-682a-46ff-da38-f2da7dadba18"
      },
      "outputs": [
        {
          "data": {
            "text/html": [
              "<div>\n",
              "<style scoped>\n",
              "    .dataframe tbody tr th:only-of-type {\n",
              "        vertical-align: middle;\n",
              "    }\n",
              "\n",
              "    .dataframe tbody tr th {\n",
              "        vertical-align: top;\n",
              "    }\n",
              "\n",
              "    .dataframe thead th {\n",
              "        text-align: right;\n",
              "    }\n",
              "</style>\n",
              "<table border=\"1\" class=\"dataframe\">\n",
              "  <thead>\n",
              "    <tr style=\"text-align: right;\">\n",
              "      <th></th>\n",
              "      <th>Nama</th>\n",
              "      <th>Usia_Maks</th>\n",
              "    </tr>\n",
              "  </thead>\n",
              "  <tbody>\n",
              "    <tr>\n",
              "      <th>0</th>\n",
              "      <td>Ali</td>\n",
              "      <td>34</td>\n",
              "    </tr>\n",
              "    <tr>\n",
              "      <th>1</th>\n",
              "      <td>Budi</td>\n",
              "      <td>23</td>\n",
              "    </tr>\n",
              "    <tr>\n",
              "      <th>2</th>\n",
              "      <td>Citra</td>\n",
              "      <td>29</td>\n",
              "    </tr>\n",
              "    <tr>\n",
              "      <th>3</th>\n",
              "      <td>Dina</td>\n",
              "      <td>45</td>\n",
              "    </tr>\n",
              "  </tbody>\n",
              "</table>\n",
              "</div>"
            ],
            "text/plain": [
              "    Nama  Usia_Maks\n",
              "0    Ali         34\n",
              "1   Budi         23\n",
              "2  Citra         29\n",
              "3   Dina         45"
            ]
          },
          "execution_count": 14,
          "metadata": {},
          "output_type": "execute_result"
        }
      ],
      "source": [
        "# Penggabungan DataFrame Pandas\n",
        "df_combined[\"Usia_Maks\"] = df_combined[[\"Usia_spark\", \"Usia_pandas\"]].max(axis=1)\n",
        "df_combined[[\"Nama\", \"Usia_Maks\"]]"
      ]
    }
  ],
  "metadata": {
    "colab": {
      "provenance": [],
      "include_colab_link": true
    },
    "kernelspec": {
      "display_name": "Python 3 (ipykernel)",
      "language": "python",
      "name": "python3"
    },
    "language_info": {
      "codemirror_mode": {
        "name": "ipython",
        "version": 3
      },
      "file_extension": ".py",
      "mimetype": "text/x-python",
      "name": "python",
      "nbconvert_exporter": "python",
      "pygments_lexer": "ipython3",
      "version": "3.9.23"
    }
  },
  "nbformat": 4,
  "nbformat_minor": 0
}