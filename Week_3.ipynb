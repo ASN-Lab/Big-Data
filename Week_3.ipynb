{
  "nbformat": 4,
  "nbformat_minor": 0,
  "metadata": {
    "colab": {
      "provenance": [],
      "authorship_tag": "ABX9TyPrbRZXEFdalIgKuavO7VKq",
      "include_colab_link": true
    },
    "kernelspec": {
      "name": "python3",
      "display_name": "Python 3"
    },
    "language_info": {
      "name": "python"
    }
  },
  "cells": [
    {
      "cell_type": "markdown",
      "metadata": {
        "id": "view-in-github",
        "colab_type": "text"
      },
      "source": [
        "<a href=\"https://colab.research.google.com/github/ASN-Lab/Big-Data/blob/main/Week_3.ipynb\" target=\"_parent\"><img src=\"https://colab.research.google.com/assets/colab-badge.svg\" alt=\"Open In Colab\"/></a>"
      ]
    },
    {
      "cell_type": "markdown",
      "source": [
        "# Data Processing dengan Apache Spark"
      ],
      "metadata": {
        "id": "zr3iVVa1aW5h"
      }
    },
    {
      "cell_type": "markdown",
      "source": [
        "### 1. Membuat data frame sederhana di Spark menggunakan beberapa fungsi dasar yang tersedia."
      ],
      "metadata": {
        "id": "hsbrclB0agzS"
      }
    },
    {
      "cell_type": "code",
      "execution_count": 11,
      "metadata": {
        "colab": {
          "base_uri": "https://localhost:8080/"
        },
        "id": "x4eV_5LoZtqW",
        "outputId": "f43814c4-454c-4cc6-9ef3-d7d5ba28683c"
      },
      "outputs": [
        {
          "output_type": "stream",
          "name": "stdout",
          "text": [
            "Data frame sederhana: \n",
            "+-------------+----------+------+\n",
            "|Employee Name|Department|Salary|\n",
            "+-------------+----------+------+\n",
            "|        James|     Sales|  3000|\n",
            "|      Michael|     Sales|  4600|\n",
            "|       Robert|     Sales|  4100|\n",
            "|        Maria|   Finance|  3000|\n",
            "+-------------+----------+------+\n",
            "\n"
          ]
        }
      ],
      "source": [
        "from pyspark.sql import SparkSession\n",
        "spark = SparkSession.builder.appName('HandsOnPertemuan3').getOrCreate()\n",
        "\n",
        "data = [('James', 'Sales', 3000),\n",
        "        ('Michael', 'Sales', 4600),\n",
        "        ('Robert', 'Sales', 4100),\n",
        "        ('Maria', 'Finance', 3000)]\n",
        "columns = ['Employee Name', 'Department', 'Salary']\n",
        "\n",
        "print(\"Data frame sederhana: \")\n",
        "df = spark.createDataFrame(data, schema=columns)\n",
        "df.show()\n",
        "\n"
      ]
    },
    {
      "cell_type": "markdown",
      "source": [
        "### 2. Transformasi data pada data frame"
      ],
      "metadata": {
        "id": "nuV_L0X9cFo3"
      }
    },
    {
      "cell_type": "code",
      "source": [
        "print(\"Data frame awal: \")\n",
        "df = spark.createDataFrame(data, schema=columns)\n",
        "df.show()\n",
        "\n",
        "print(\"Seleksi kolom Employee Name dan Salary: \")\n",
        "df.select('Employee Name', 'Salary').show()\n",
        "\n",
        "print(\"Filter data pada kolom Salary yang memiliki nilai lebih dari 3000: \")\n",
        "df.filter(df['Salary'] > 3000).show()\n",
        "\n",
        "print(\"Pengelompokan berdasarkan kolom Department dan menghitung rata-rata Salary: \")\n",
        "df.groupBy('Department').avg('Salary').show()"
      ],
      "metadata": {
        "colab": {
          "base_uri": "https://localhost:8080/"
        },
        "id": "uO9jK9NLcK7S",
        "outputId": "48e83d87-f8db-4610-c45f-5b3062b77a92"
      },
      "execution_count": 16,
      "outputs": [
        {
          "output_type": "stream",
          "name": "stdout",
          "text": [
            "Data frame awal: \n",
            "+-------------+----------+------+\n",
            "|Employee Name|Department|Salary|\n",
            "+-------------+----------+------+\n",
            "|        James|     Sales|  3000|\n",
            "|      Michael|     Sales|  4600|\n",
            "|       Robert|     Sales|  4100|\n",
            "|        Maria|   Finance|  3000|\n",
            "+-------------+----------+------+\n",
            "\n",
            "Seleksi kolom Employee Name dan Salary: \n",
            "+-------------+------+\n",
            "|Employee Name|Salary|\n",
            "+-------------+------+\n",
            "|        James|  3000|\n",
            "|      Michael|  4600|\n",
            "|       Robert|  4100|\n",
            "|        Maria|  3000|\n",
            "+-------------+------+\n",
            "\n",
            "Filter data pada kolom Salary yang memiliki nilai lebih dari 3000: \n",
            "+-------------+----------+------+\n",
            "|Employee Name|Department|Salary|\n",
            "+-------------+----------+------+\n",
            "|      Michael|     Sales|  4600|\n",
            "|       Robert|     Sales|  4100|\n",
            "+-------------+----------+------+\n",
            "\n",
            "Pengelompokan berdasarkan kolom Department dan menghitung rata-rata Salary: \n",
            "+----------+-----------+\n",
            "|Department|avg(Salary)|\n",
            "+----------+-----------+\n",
            "|     Sales|     3900.0|\n",
            "|   Finance|     3000.0|\n",
            "+----------+-----------+\n",
            "\n"
          ]
        }
      ]
    },
    {
      "cell_type": "markdown",
      "source": [
        "### 3. Mengolah tipe data kompleks dalam Spark dari data frames"
      ],
      "metadata": {
        "id": "769O_ug-dLaS"
      }
    },
    {
      "cell_type": "code",
      "source": [
        "print(\"Data frame awal: \")\n",
        "df = spark.createDataFrame(data, schema=columns)\n",
        "df.show()\n",
        "\n",
        "print(\"Menambahkan kolom baru bernama Salary Bonus:\")\n",
        "df = df.withColumn('Salary Bonus', df['Salary'] * 0.1)\n",
        "df.show()\n",
        "\n",
        "print(\"Menambahkan kolom baru bernama Total Compensation:\")\n",
        "df = df.withColumn('Total Compensation', df['Salary'] + df['Salary Bonus'])\n",
        "df.show()"
      ],
      "metadata": {
        "colab": {
          "base_uri": "https://localhost:8080/"
        },
        "id": "88jQMEe8dW7g",
        "outputId": "5d1cc151-8644-442e-9272-c734fac6cd6f"
      },
      "execution_count": 14,
      "outputs": [
        {
          "output_type": "stream",
          "name": "stdout",
          "text": [
            "Data frame awal: \n",
            "+-------------+----------+------+\n",
            "|Employee Name|Department|Salary|\n",
            "+-------------+----------+------+\n",
            "|        James|     Sales|  3000|\n",
            "|      Michael|     Sales|  4600|\n",
            "|       Robert|     Sales|  4100|\n",
            "|        Maria|   Finance|  3000|\n",
            "+-------------+----------+------+\n",
            "\n",
            "Menambahkan kolom baru bernama Salary Bonus:\n",
            "+-------------+----------+------+------------+\n",
            "|Employee Name|Department|Salary|Salary Bonus|\n",
            "+-------------+----------+------+------------+\n",
            "|        James|     Sales|  3000|       300.0|\n",
            "|      Michael|     Sales|  4600|       460.0|\n",
            "|       Robert|     Sales|  4100|       410.0|\n",
            "|        Maria|   Finance|  3000|       300.0|\n",
            "+-------------+----------+------+------------+\n",
            "\n",
            "Menambahkan kolom baru bernama Total Compensation:\n",
            "+-------------+----------+------+------------+------------------+\n",
            "|Employee Name|Department|Salary|Salary Bonus|Total Compensation|\n",
            "+-------------+----------+------+------------+------------------+\n",
            "|        James|     Sales|  3000|       300.0|            3300.0|\n",
            "|      Michael|     Sales|  4600|       460.0|            5060.0|\n",
            "|       Robert|     Sales|  4100|       410.0|            4510.0|\n",
            "|        Maria|   Finance|  3000|       300.0|            3300.0|\n",
            "+-------------+----------+------+------------+------------------+\n",
            "\n"
          ]
        }
      ]
    },
    {
      "cell_type": "markdown",
      "source": [
        "### 4. Mengimplementasikan window function"
      ],
      "metadata": {
        "id": "zLpCUv0Bfzyl"
      }
    },
    {
      "cell_type": "code",
      "source": [
        "from pyspark.sql.window import Window\n",
        "from pyspark.sql import functions as F\n",
        "\n",
        "# Mendefinisikan window specification\n",
        "windowSpec = Window.partitionBy('Department').orderBy('Salary')\n",
        "\n",
        "# Menambahkan kolom Rank berdasarkan Salary dalam tiap Department\n",
        "df.withColumn('Rank', F.rank().over(windowSpec)).show()"
      ],
      "metadata": {
        "colab": {
          "base_uri": "https://localhost:8080/"
        },
        "id": "d2hPUpYef6u2",
        "outputId": "444ebdd1-5453-4f1a-b680-b78222719624"
      },
      "execution_count": 17,
      "outputs": [
        {
          "output_type": "stream",
          "name": "stdout",
          "text": [
            "+-------------+----------+------+----+\n",
            "|Employee Name|Department|Salary|Rank|\n",
            "+-------------+----------+------+----+\n",
            "|        Maria|   Finance|  3000|   1|\n",
            "|        James|     Sales|  3000|   1|\n",
            "|       Robert|     Sales|  4100|   2|\n",
            "|      Michael|     Sales|  4600|   3|\n",
            "+-------------+----------+------+----+\n",
            "\n"
          ]
        }
      ]
    },
    {
      "cell_type": "markdown",
      "source": [
        "### 5."
      ],
      "metadata": {
        "id": "HYydbrGHiXti"
      }
    },
    {
      "cell_type": "code",
      "source": [
        "from pyspark.sql import SparkSession\n",
        "from pyspark.sql import functions as F\n",
        "\n",
        "# Inisialisasi SparkSession\n",
        "spark = SparkSession.builder.appName(\"Analisis Pendapatan\").getOrCreate()\n",
        "\n",
        "# Path ke file CSV\n",
        "file_path = \"Pendapatan.csv\"\n",
        "\n",
        "# Memuat Data CSV ke Spark DataFrame\n",
        "print(\"Memuat data dari:\", file_path)\n",
        "df_pendapatan = spark.read.csv(file_path, header=True, inferSchema=True)\n",
        "print(\"Data berhasil dimuat!\")\n",
        "\n",
        "# Eksplorasi Data Awal\n",
        "print(\"\\nData frame: \")\n",
        "df_pendapatan.show()\n",
        "\n",
        "print(\"\\nSkema data yang ada: \")\n",
        "df_pendapatan.printSchema()\n",
        "\n",
        "print(\"\\nRingkasan statistik: \")\n",
        "df_pendapatan.describe().show()\n",
        "\n",
        "# Jumlah pekerja berdasarkan jenis kelamin\n",
        "print(\"\\nJumlah pekerja berdasarkan jenis kelamin: \")\n",
        "df_pendapatan.groupBy(\"Jenis Kelamin\").count().show()\n",
        "\n",
        "# Rata-rata umur pekerja berdasarkan gaji\n",
        "print(\"\\nRata-rata umur pekerja berdasarkan gaji: \")\n",
        "df_pendapatan.groupBy(\"Gaji\").agg(F.avg(\"Umur\").alias(\"Rata_rata_Umur\")).show()\n",
        "\n",
        "# Jenis pekerjaan paling banyak\n",
        "print(\"\\nList 5 jenis pekerjaan dengan jumlah yang paling banyak: \")\n",
        "df_pendapatan.groupBy(\"Pekerjaan\").count().orderBy(F.desc(\"count\")).show(5)\n",
        "\n",
        "# Rata-rata gaji pekerja berdasarkan tiap jenjang pendidikan\n",
        "print(\"\\nRata-rata gaji berdasarkan tingkat pendidikan: \")\n",
        "df_pendapatan.groupBy(\"Pendidikan\").agg(F.avg(\"Gaji\").alias(\"Rata_rata_Gaji\")).orderBy(F.desc(\"Rata_rata_Gaji\")).show()\n",
        "\n",
        "# Rata-rata keuntungan berdasarkan status perkawinan\n",
        "print(\"\\nStatus perkawinan pekerja dengan rata-rata keuntungan kapital tertinggi: \")\n",
        "df_pendapatan.groupBy(\"Status Perkawinan\").agg(F.avg(\"Keuntungan Kapital\").alias(\"Rata_rata_Keuntungan_Kapital\")).orderBy(F.desc(\"Rata_rata_Keuntungan_Kapital\")).show()\n",
        "\n",
        "# Menghentikan SparkSession\n",
        "spark.stop()"
      ],
      "metadata": {
        "colab": {
          "base_uri": "https://localhost:8080/"
        },
        "id": "pdwbL-9FiZhM",
        "outputId": "70af4618-647e-40d0-ea45-12ae6c9c37b2"
      },
      "execution_count": 23,
      "outputs": [
        {
          "output_type": "stream",
          "name": "stdout",
          "text": [
            "Memuat data dari: Pendapatan.csv\n",
            "Data berhasil dimuat!\n",
            "\n",
            "Data frame: \n",
            "+-----+----+--------------------+-----------+-----------------+---------------------+--------------------+--------------------+-------------+------------------+----------------+--------------+----+\n",
            "|   id|Umur|       Kelas Pekerja|Berat Akhir|       Pendidikan|Jmlh Tahun Pendidikan|   Status Perkawinan|           Pekerjaan|Jenis Kelamin|Keuntungan Kapital|Kerugian Capital|Jam per Minggu|Gaji|\n",
            "+-----+----+--------------------+-----------+-----------------+---------------------+--------------------+--------------------+-------------+------------------+----------------+--------------+----+\n",
            "|27247|  59|   Pemerintah Negara|     139616|           Master|                   14|             Menikah|Ekesekutif Manage...|        Laki2|               0.0|             0.0|          50.0|   1|\n",
            "| 1640|  52|          Wiraswasta|     158993|              SMA|                    9|               Cerai|      Servis Lainnya|    Perempuan|               0.0|             0.0|          38.0|   0|\n",
            "|45206|  52|Pekerja Bebas Buk...|     284648|              SMA|                    9|               Cerai|Ekesekutif Manage...|    Perempuan|               0.0|             0.0|          99.0|   1|\n",
            "|16154|  45|          Wiraswasta|     132847|              SMA|                    9|Belum Pernah Menikah|           Pembersih|    Perempuan|               0.0|             0.0|          40.0|   0|\n",
            "|43023|  28|          Wiraswasta|     103432|              SMA|                    9|Belum Pernah Menikah|               Supir|        Laki2|               0.0|             0.0|          45.0|   1|\n",
            "| 6240|  21|          Wiraswasta|     188793|              SMA|                    9|             Menikah|               Sales|        Laki2|               0.0|             0.0|          35.0|   0|\n",
            "|39198|  58|          Wiraswasta|     106740|              SMA|                    9|             Menikah| Perbaikan Kerajinan|        Laki2|               0.0|             0.0|          40.0|   1|\n",
            "|24735|  60|                   ?|     141221|          Sarjana|                   13|             Menikah|                   ?|        Laki2|               0.0|        3.0282E7|          25.0|   0|\n",
            "|16686|  23|          Wiraswasta|     216889|              SMA|                    9|Belum Pernah Menikah|           Pembersih|        Laki2|               0.0|             0.0|          40.0|   0|\n",
            "|37411|  34|                   ?|     112584|              SMA|                    9|            Berpisah|                   ?|    Perempuan|               0.0|             0.0|          40.0|   0|\n",
            "| 3362|  29|          Wiraswasta|     136277|             10th|                    6|Belum Pernah Menikah|      Servis Lainnya|    Perempuan|               0.0|             0.0|          32.0|   0|\n",
            "|38239|  33|   Pemerintah Negara|     226296|              SMA|                    9|Belum Pernah Menikah|               Supir|        Laki2|               0.0|             0.0|          40.0|   0|\n",
            "|33944|  27|    Pemerintah Lokal|     352797|              SMA|                    9|         Menikah LDR|               Sales|    Perempuan|               0.0|             0.0|          40.0|   0|\n",
            "|42939|  41|          Wiraswasta|     356934|Pendidikan Tinggi|                   10|             Menikah|        Tech-support|        Laki2|               0.0|             0.0|          45.0|   1|\n",
            "|47261|  61|          Wiraswasta|     189932|              SMA|                    9|             Menikah|      Servis Lainnya|        Laki2|               0.0|             0.0|          30.0|   0|\n",
            "|19049|  28|    Pemerintah Lokal|     335015|              SMA|                    9|             Menikah| Perbaikan Kerajinan|        Laki2|               0.0|             0.0|          40.0|   0|\n",
            "| 8302|  26|          Wiraswasta|     102106|             10th|                    6|             Menikah|        Pemuka Agama|    Perempuan|               0.0|             0.0|          40.0|   0|\n",
            "|25684|  25|          Wiraswasta|     112835|          Sarjana|                   13|Belum Pernah Menikah|           Spesialis|        Laki2|               0.0|             0.0|          40.0|   0|\n",
            "|14753|  56|          Wiraswasta|      99359|              SMA|                    9|               Cerai|        Pemuka Agama|    Perempuan|               0.0|        2.2638E7|          40.0|   0|\n",
            "|47935|  43|Pekerja Bebas Buk...|     174295|             11th|                    7|             Menikah|      Servis Lainnya|        Laki2|               0.0|             0.0|          40.0|   0|\n",
            "+-----+----+--------------------+-----------+-----------------+---------------------+--------------------+--------------------+-------------+------------------+----------------+--------------+----+\n",
            "only showing top 20 rows\n",
            "\n",
            "\n",
            "Skema data yang ada: \n",
            "root\n",
            " |-- id: integer (nullable = true)\n",
            " |-- Umur: integer (nullable = true)\n",
            " |-- Kelas Pekerja: string (nullable = true)\n",
            " |-- Berat Akhir: integer (nullable = true)\n",
            " |-- Pendidikan: string (nullable = true)\n",
            " |-- Jmlh Tahun Pendidikan: integer (nullable = true)\n",
            " |-- Status Perkawinan: string (nullable = true)\n",
            " |-- Pekerjaan: string (nullable = true)\n",
            " |-- Jenis Kelamin: string (nullable = true)\n",
            " |-- Keuntungan Kapital: double (nullable = true)\n",
            " |-- Kerugian Capital: double (nullable = true)\n",
            " |-- Jam per Minggu: double (nullable = true)\n",
            " |-- Gaji: integer (nullable = true)\n",
            "\n",
            "\n",
            "Ringkasan statistik: \n",
            "+-------+------------------+------------------+-------------+------------------+--------------------+---------------------+--------------------+---------+-------------+--------------------+------------------+------------------+------------------+\n",
            "|summary|                id|              Umur|Kelas Pekerja|       Berat Akhir|          Pendidikan|Jmlh Tahun Pendidikan|   Status Perkawinan|Pekerjaan|Jenis Kelamin|  Keuntungan Kapital|  Kerugian Capital|    Jam per Minggu|              Gaji|\n",
            "+-------+------------------+------------------+-------------+------------------+--------------------+---------------------+--------------------+---------+-------------+--------------------+------------------+------------------+------------------+\n",
            "|  count|             38393|             38393|        38393|             38393|               38393|                38393|               38393|    38393|        38393|               38393|             38393|             38393|             38393|\n",
            "|   mean| 24015.24853488917|  38.6739249342328|         NULL|189723.75628369756|                NULL|   10.082827598781028|                NULL|     NULL|         NULL|1.5186589065715104E7|1212665.1733388898| 40.44062719766624|0.2394967832677832|\n",
            "| stddev|13872.059918983841|13.694677741126677|         NULL|  105576.445288365|                NULL|   2.5745430137054583|                NULL|     NULL|         NULL|1.0443732645482597E8|  5613944.89575574|12.382694954775193|0.4267819328879188|\n",
            "|    min|                 0|                17|            ?|             12285|                10th|                    1|Belum Pernah Menikah|        ?|        Laki2|                 0.0|               0.0|               1.0|                 0|\n",
            "|    max|             47991|                90|   Wiraswasta|           1490400|Sekolah Professional|                   16|         Menikah LDR|  Tentara|    Perempuan|          1.399986E9|          6.0984E7|              99.0|                 1|\n",
            "+-------+------------------+------------------+-------------+------------------+--------------------+---------------------+--------------------+---------+-------------+--------------------+------------------+------------------+------------------+\n",
            "\n",
            "\n",
            "Jumlah pekerja berdasarkan jenis kelamin: \n",
            "+-------------+-----+\n",
            "|Jenis Kelamin|count|\n",
            "+-------------+-----+\n",
            "|        Laki2|25708|\n",
            "|    Perempuan|12685|\n",
            "+-------------+-----+\n",
            "\n",
            "\n",
            "Rata-rata umur pekerja berdasarkan gaji: \n",
            "+----+------------------+\n",
            "|Gaji|    Rata_rata_Umur|\n",
            "+----+------------------+\n",
            "|   1|44.322349102773245|\n",
            "|   0|36.895129803411194|\n",
            "+----+------------------+\n",
            "\n",
            "\n",
            "List 5 jenis pekerjaan dengan jumlah yang paling banyak: \n",
            "+--------------------+-----+\n",
            "|           Pekerjaan|count|\n",
            "+--------------------+-----+\n",
            "|           Spesialis| 4911|\n",
            "|Ekesekutif Manage...| 4790|\n",
            "| Perbaikan Kerajinan| 4788|\n",
            "|        Pemuka Agama| 4408|\n",
            "|               Sales| 4323|\n",
            "+--------------------+-----+\n",
            "only showing top 5 rows\n",
            "\n",
            "\n",
            "Rata-rata gaji berdasarkan tingkat pendidikan: \n",
            "+--------------------+--------------------+\n",
            "|          Pendidikan|      Rata_rata_Gaji|\n",
            "+--------------------+--------------------+\n",
            "|Sekolah Professional|  0.7447447447447447|\n",
            "|              Doktor|  0.7379454926624738|\n",
            "|              Master|   0.544672718585762|\n",
            "|             Sarjana|  0.4143987341772152|\n",
            "|                  D4|  0.2601372426699938|\n",
            "|                  D3| 0.25793650793650796|\n",
            "|   Pendidikan Tinggi| 0.18654003986399342|\n",
            "|                 SMA| 0.15744167337087692|\n",
            "|                12th| 0.07465618860510806|\n",
            "|             7th-8th|  0.0664819944598338|\n",
            "|                10th| 0.06478102189781022|\n",
            "|                 9th| 0.06291390728476821|\n",
            "|             5th-6th| 0.05263157894736842|\n",
            "|                11th|  0.0511727078891258|\n",
            "|             1st-4th|0.041025641025641026|\n",
            "|                  SD|            0.015625|\n",
            "+--------------------+--------------------+\n",
            "\n",
            "\n",
            "Status perkawinan pekerja dengan rata-rata keuntungan kapital tertinggi: \n",
            "+--------------------+----------------------------+\n",
            "|   Status Perkawinan|Rata_rata_Keuntungan_Kapital|\n",
            "+--------------------+----------------------------+\n",
            "|             Menikah|         2.416923492063492E7|\n",
            "|               Cerai|                 1.2301485E7|\n",
            "|         Menikah LDR|         1.192572030651341E7|\n",
            "|               Janda|           8232724.957555179|\n",
            "|            Berpisah|           7656207.813798836|\n",
            "|Belum Pernah Menikah|           5344813.754940712|\n",
            "+--------------------+----------------------------+\n",
            "\n"
          ]
        }
      ]
    }
  ]
}